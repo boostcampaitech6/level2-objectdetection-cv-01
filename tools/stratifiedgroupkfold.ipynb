{
 "cells": [
  {
   "cell_type": "code",
   "execution_count": 1,
   "metadata": {},
   "outputs": [],
   "source": [
    "import json\n",
    "import os\n",
    "import funcy\n",
    "import numpy as np\n",
    "from sklearn.model_selection import StratifiedGroupKFold"
   ]
  },
  {
   "cell_type": "code",
   "execution_count": 3,
   "metadata": {},
   "outputs": [],
   "source": [
    "# data annotation file 저장 경로\n",
    "save_annotation_path = '/data/ephemeral/home/dataset'\n",
    "\n",
    "# annotation file\n",
    "annotation = '/data/ephemeral/home/dataset/train.json'\n",
    "\n",
    "with open(annotation) as f:\n",
    "    data = json.load(f)\n",
    "    info = data['info']\n",
    "    licences = data['licenses']\n",
    "    images = data['images']\n",
    "    categories = data['categories']\n",
    "    anns = data['annotations']"
   ]
  },
  {
   "cell_type": "code",
   "execution_count": 4,
   "metadata": {},
   "outputs": [],
   "source": [
    "# file을 json 형태로 저장\n",
    "def save_coco(file, info, licenses, images, annotations, categories):\n",
    "    with open(file, 'wt', encoding='UTF-8') as coco:\n",
    "        json.dump({ 'info': info, 'licenses': licenses, 'images': images, \n",
    "            'annotations': annotations, 'categories': categories}, coco, indent=2, sort_keys=False)\n",
    "\n",
    "def filter_annotations(annotations, images):\n",
    "    image_ids = funcy.lmap(lambda i: int(i['id']), images)\n",
    "    return funcy.lfilter(lambda a: int(a['image_id']) in image_ids, annotations)\n",
    "\n",
    "def filter_images(images, annotations):\n",
    "    ann_ids = funcy.lmap(lambda i: int(i['image_id']), annotations)\n",
    "    return funcy.lfilter(lambda a: int(a['id']) in ann_ids, images)"
   ]
  },
  {
   "cell_type": "code",
   "execution_count": 6,
   "metadata": {},
   "outputs": [
    {
     "name": "stdout",
     "output_type": "stream",
     "text": [
      "0 train annotation saved as train_kfold_0.json\n",
      "0 val annotation saved as val_kfold_0.json\n",
      "\n",
      "1 train annotation saved as train_kfold_1.json\n",
      "1 val annotation saved as val_kfold_1.json\n",
      "\n",
      "2 train annotation saved as train_kfold_2.json\n",
      "2 val annotation saved as val_kfold_2.json\n",
      "\n",
      "3 train annotation saved as train_kfold_3.json\n",
      "3 val annotation saved as val_kfold_3.json\n",
      "\n",
      "4 train annotation saved as train_kfold_4.json\n",
      "4 val annotation saved as val_kfold_4.json\n",
      "\n"
     ]
    }
   ],
   "source": [
    "var = [(ann['image_id'],ann['category_id']) for ann in anns]\n",
    "X = np.ones((len(data['annotations']), 1))  # dummy\n",
    "y = np.array([v[1] for v in var])   # category_id\n",
    "groups = np.array([v[0] for v in var])  # group (image_id)\n",
    "\n",
    "cv = StratifiedGroupKFold(n_splits=5, shuffle=True, random_state=137)\n",
    "\n",
    "for fold_idx, (train_idx, val_idx) in enumerate(cv.split(X, y, groups)):\n",
    "    train_anns = []\n",
    "    val_anns = []\n",
    "    \n",
    "    train_file_name = f'train_kfold_{fold_idx}.json'\n",
    "    val_file_name = f'val_kfold_{fold_idx}.json'\n",
    "    \n",
    "    for id in train_idx:\n",
    "        train_anns.append(anns[id])\n",
    "        \n",
    "    train_anns = np.array(train_anns)\n",
    "        \n",
    "    for id in val_idx:\n",
    "        val_anns.append(anns[id])\n",
    "        \n",
    "    val_anns = np.array(val_anns)\n",
    "    \n",
    "    save_coco(os.path.join(save_annotation_path, train_file_name),info,licences,filter_images(images,train_anns),filter_annotations(train_anns, images), categories)\n",
    "    print(f'{fold_idx} train annotation saved as {train_file_name}')\n",
    "    save_coco(os.path.join(save_annotation_path, val_file_name),info,licences,filter_images(images,val_anns),filter_annotations(val_anns, images), categories)\n",
    "    print(f'{fold_idx} val annotation saved as {val_file_name}')\n",
    "    print('')"
   ]
  }
 ],
 "metadata": {
  "kernelspec": {
   "display_name": "level2",
   "language": "python",
   "name": "python3"
  },
  "language_info": {
   "codemirror_mode": {
    "name": "ipython",
    "version": 3
   },
   "file_extension": ".py",
   "mimetype": "text/x-python",
   "name": "python",
   "nbconvert_exporter": "python",
   "pygments_lexer": "ipython3",
   "version": "3.10.13"
  }
 },
 "nbformat": 4,
 "nbformat_minor": 2
}
