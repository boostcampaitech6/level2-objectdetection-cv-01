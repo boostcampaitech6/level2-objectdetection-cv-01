{
 "cells": [
  {
   "cell_type": "markdown",
   "metadata": {},
   "source": [
    "### 기본 디렉토리 설정"
   ]
  },
  {
   "cell_type": "code",
   "execution_count": 17,
   "metadata": {},
   "outputs": [],
   "source": [
    "import os\n",
    "\n",
    "# 기본 경로 설정\n",
    "root_path = '/data/ephemeral/home'\n",
    "dir_name = 'dataset_final'\n",
    "\n",
    "# 이미지와 레이블의 서브 디렉토리 경로 설정\n",
    "image_dirs = ['images/train', 'images/valid', 'images/test']\n",
    "label_dirs = ['labels/train', 'labels/valid']\n",
    "\n",
    "# 모든 필요한 디렉토리 생성\n",
    "for dir in image_dirs + label_dirs:\n",
    "    os.makedirs(os.path.join(root_path, dir_name, dir), exist_ok=True)"
   ]
  },
  {
   "cell_type": "markdown",
   "metadata": {},
   "source": [
    "### 기존 파일을 욜로 폴더로 옮기기"
   ]
  },
  {
   "cell_type": "code",
   "execution_count": 7,
   "metadata": {},
   "outputs": [
    {
     "data": {
      "text/plain": [
       "'/data/ephemeral/home/dataset_final/test.json'"
      ]
     },
     "execution_count": 7,
     "metadata": {},
     "output_type": "execute_result"
    }
   ],
   "source": [
    "import shutil\n",
    "import os\n",
    "import glob\n",
    "\n",
    "# KFold 번호 설정\n",
    "kfold_number = 0\n",
    "\n",
    "# 기존 및 새 디렉토리 경로 설정\n",
    "src_train_images = os.path.join(root_path, 'dataset/train')\n",
    "src_test_images = os.path.join(root_path, 'dataset/test')\n",
    "dest_train_images = os.path.join(root_path, dir_name, 'images/train')\n",
    "dest_test_images = os.path.join(root_path, dir_name, 'images/test')\n",
    "src_train_json = os.path.join(root_path, f'dataset/train_kfold_{kfold_number}.json')\n",
    "src_val_json = os.path.join(root_path, f'dataset/val_kfold_{kfold_number}.json')\n",
    "src_test_json = os.path.join(root_path, 'dataset/test.json')\n",
    "dest_json = os.path.join(root_path, dir_name)\n",
    "\n",
    "# train 이미지 복사\n",
    "for file in glob.glob(f'{src_train_images}/*.jpg'):\n",
    "    shutil.copy(file, dest_train_images)\n",
    "\n",
    "# test 이미지 복사\n",
    "for file in glob.glob(f'{src_test_images}/*.jpg'):\n",
    "    shutil.copy(file, dest_test_images)\n",
    "\n",
    "# JSON 파일 복사\n",
    "shutil.copy(src_train_json, dest_json)\n",
    "shutil.copy(src_val_json, dest_json)\n",
    "shutil.copy(src_test_json, dest_json)"
   ]
  },
  {
   "cell_type": "markdown",
   "metadata": {},
   "source": [
    "### 욜로 폴더 내 JSON 파일을 기반으로 txt 파일 생성\n",
    "\n",
    "- 주의: 생성된 파일이 바로 안보일 수 있음"
   ]
  },
  {
   "cell_type": "code",
   "execution_count": 18,
   "metadata": {},
   "outputs": [
    {
     "name": "stdout",
     "output_type": "stream",
     "text": [
      "total images 3905\n",
      "total categories 10\n",
      "total labels 18508\n",
      "loading image info...\n",
      "loading done, total images 3905\n",
      "start converting...\n",
      "converting done, total labels 3905\n",
      "saving txt file...\n",
      "saving done\n",
      "total images 978\n",
      "total categories 10\n",
      "total labels 4636\n",
      "loading image info...\n",
      "loading done, total images 978\n",
      "start converting...\n",
      "converting done, total labels 978\n",
      "saving txt file...\n",
      "saving done\n"
     ]
    }
   ],
   "source": [
    "train_json_path = os.path.join(root_path, dir_name, f'train_kfold_{kfold_number}.json')\n",
    "val_json_path = os.path.join(root_path, dir_name, f'val_kfold_{kfold_number}.json')\n",
    "label_path = os.path.join(root_path, dir_name, 'labels')\n",
    "\n",
    "!python coco2yolo.py -j {train_json_path} -o {label_path} -f train\n",
    "!python coco2yolo.py -j {val_json_path} -o {label_path} -f val"
   ]
  },
  {
   "cell_type": "markdown",
   "metadata": {},
   "source": [
    "### 욜로 폴더 내 train 파일을 valid로 나눔\n",
    "- yolo에서 자체적으로 train set 안에 있는 임의로 validation set으로 나누는 기능이 존재함.\n",
    "- 만약, 위 기능을 사용하려면 아래 코드는 실행시키지 말기"
   ]
  },
  {
   "cell_type": "code",
   "execution_count": 24,
   "metadata": {},
   "outputs": [],
   "source": [
    "# 검증 세트 레이블이 저장된 디렉토리\n",
    "valid_label_dir = os.path.join(root_path, dir_name, 'labels/valid')\n",
    "\n",
    "# 이미지 디렉토리\n",
    "train_image_dir = os.path.join(root_path, dir_name, 'images/train')\n",
    "valid_image_dir = os.path.join(root_path, dir_name, 'images/valid')\n",
    "\n",
    "# valid 레이블에 해당하는 이미지 파일 찾기\n",
    "valid_labels = glob.glob(f'{valid_label_dir}/*.txt')\n",
    "\n",
    "for label_path in valid_labels:\n",
    "    image_path = label_path.replace('labels', 'images').replace('valid', 'train').replace('.txt', '.jpg')\n",
    "\n",
    "    if os.path.exists(image_path):\n",
    "        shutil.move(image_path, valid_image_dir)\n",
    "    else:\n",
    "        print('No image file exist ! : ', image_path)\n"
   ]
  }
 ],
 "metadata": {
  "kernelspec": {
   "display_name": "base",
   "language": "python",
   "name": "python3"
  },
  "language_info": {
   "codemirror_mode": {
    "name": "ipython",
    "version": 3
   },
   "file_extension": ".py",
   "mimetype": "text/x-python",
   "name": "python",
   "nbconvert_exporter": "python",
   "pygments_lexer": "ipython3",
   "version": "3.10.13"
  }
 },
 "nbformat": 4,
 "nbformat_minor": 2
}
